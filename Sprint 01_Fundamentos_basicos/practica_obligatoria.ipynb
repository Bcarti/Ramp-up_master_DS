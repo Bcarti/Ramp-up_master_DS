{
 "cells": [
  {
   "cell_type": "code",
   "execution_count": null,
   "id": "6c1ea1e6-343f-459c-b0a4-76bb6276bd84",
   "metadata": {},
   "outputs": [],
   "source": []
  },
  {
   "cell_type": "code",
   "execution_count": 8,
   "id": "30d35d6f-a4fe-4911-af4c-c81dbf34983f",
   "metadata": {},
   "outputs": [],
   "source": [
    "#Markdown Práctica Obligatoria"
   ]
  },
  {
   "cell_type": "code",
   "execution_count": 9,
   "id": "304026db-983c-45dc-a9c2-f761f0494e50",
   "metadata": {},
   "outputs": [],
   "source": [
    "##Ejercicio 1"
   ]
  },
  {
   "cell_type": "code",
   "execution_count": null,
   "id": "dcf76582-12e7-4d3a-b816-b0c0e3bb8cfc",
   "metadata": {},
   "outputs": [],
   "source": []
  }
 ],
 "metadata": {
  "kernelspec": {
   "display_name": "Python 3 (ipykernel)",
   "language": "python",
   "name": "python3"
  },
  "language_info": {
   "codemirror_mode": {
    "name": "ipython",
    "version": 3
   },
   "file_extension": ".py",
   "mimetype": "text/x-python",
   "name": "python",
   "nbconvert_exporter": "python",
   "pygments_lexer": "ipython3",
   "version": "3.12.6"
  }
 },
 "nbformat": 4,
 "nbformat_minor": 5
}
