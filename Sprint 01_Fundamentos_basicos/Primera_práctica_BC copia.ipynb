{
 "cells": [
  {
   "cell_type": "markdown",
   "id": "b6392f8a-f1be-41ae-90e4-f56db02ee966",
   "metadata": {},
   "source": [
    "![logo_theBridge.jpeg](logo_theBridge.jpeg)"
   ]
  },
  {
   "cell_type": "markdown",
   "id": "e4c502e7-69e3-4807-aa4c-3ba7cfc8fe0f",
   "metadata": {},
   "source": [
    "![logo_señor_enfadado](senor_enfadado.jpeg)"
   ]
  },
  {
   "cell_type": "markdown",
   "id": "3178db6d-3188-4e35-8868-e2ebb7b35439",
   "metadata": {},
   "source": [
    "# Markdown Práctica Obligatoria"
   ]
  },
  {
   "cell_type": "markdown",
   "id": "0d6a45d0-7ea4-479d-bfbd-3309d9d3f026",
   "metadata": {},
   "source": [
    "## Ejercicio 1"
   ]
  },
  {
   "cell_type": "markdown",
   "id": "c46bf1de-cda5-4529-86c3-f85a6683ac99",
   "metadata": {},
   "source": [
    "Vamos a aplicar los conocimientos adquiridos en este notebook, intentando reproducir la siguiente imagen en una celda markdown con su sintaxis. En el link que va enlazado a `página con ML` es: `https://www.kaggle.com/`"
   ]
  },
  {
   "cell_type": "markdown",
   "id": "51b2037a-af46-47db-afaa-c82f9d041ac7",
   "metadata": {},
   "source": [
    "**Tip** en [este enlace](https://www.markdownguide.org/basic-syntax/) tienes más ejemplos, por si te atascas con algo :)"
   ]
  },
  {
   "cell_type": "markdown",
   "id": "e4f500b9-28b6-4626-93f6-3e7797bd0d5c",
   "metadata": {},
   "source": [
    "![logo_instruccion_python](instruccion_python.png)"
   ]
  },
  {
   "cell_type": "markdown",
   "id": "559fe41e-03c8-428d-ab6c-c3934a931db6",
   "metadata": {},
   "source": [
    "## Ejercicio 2"
   ]
  },
  {
   "cell_type": "markdown",
   "id": "25278740-1520-4d44-9593-4d3c2e483fa5",
   "metadata": {},
   "source": [
    "Para este ejercicio vas a crear dos nuevos elementos que no hemos visto en la teoría, tendrás que buscar en google cómo hacer: una tabla y una fórmula. Busca en la web la sintaxis y replica ambos elementos.(no es necesaria la tira azul)"
   ]
  },
  {
   "cell_type": "markdown",
   "id": "43f37971-ae89-4cdd-8e34-0f73de561e0c",
   "metadata": {},
   "source": [
    "![Tabla_1](tabla_primera_practica.png)"
   ]
  }
 ],
 "metadata": {
  "kernelspec": {
   "display_name": "Python 3 (ipykernel)",
   "language": "python",
   "name": "python3"
  },
  "language_info": {
   "codemirror_mode": {
    "name": "ipython",
    "version": 3
   },
   "file_extension": ".py",
   "mimetype": "text/x-python",
   "name": "python",
   "nbconvert_exporter": "python",
   "pygments_lexer": "ipython3",
   "version": "3.12.6"
  }
 },
 "nbformat": 4,
 "nbformat_minor": 5
}
